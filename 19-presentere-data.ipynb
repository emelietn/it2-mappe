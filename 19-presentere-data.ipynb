{
 "cells": [
  {
   "cell_type": "markdown",
   "metadata": {},
   "source": [
    "# 19 - Presentere data\n",
    "\n",
    "## Plan for dagen\n",
    "\n",
    "1. Telling med ordbøker\n",
    "2. Sortere ordbøker\n",
    "3. Plotting\n",
    "4. Nettsider med Flask\n",
    "\n",
    "## Biblioteker\n",
    "\n",
    "I dag skal vi bruke `matplotlib` for å plotte data og `flask` for å presentere data på nettsider.\n",
    "De må installeres.\n",
    "Kjør følgende kommandoe i terminalen i VS Code (Terminal -> New Terminal):\n",
    "\n",
    "```bash\n",
    "# Mac\n",
    "pip3 install matplotlib flask requests\n",
    "\n",
    "# Windows\n",
    "pip install matplotlib flask requests\n",
    "```\n"
   ]
  },
  {
   "cell_type": "markdown",
   "metadata": {},
   "source": [
    "## Telle kategorier\n",
    "\n",
    "- [it2.thorcc.no - Telling med ordbøker](https://it2.thorcc.no/databehandling-og-algoritmer/lokker-lister-og-ordboker#eksempel-telling-med-ordb%C3%B8ker)"
   ]
  },
  {
   "cell_type": "markdown",
   "metadata": {},
   "source": [
    "### Eksempel 1: Formel 1-sjåfører\n",
    "\n",
    "**Oppgave**: lag en oversikt som viser antall sjåfører som har de ulike nasjonalitetene i Formel 1-sirkuset"
   ]
  },
  {
   "cell_type": "code",
   "execution_count": 1,
   "metadata": {},
   "outputs": [],
   "source": [
    "f1_sjåfører = [\n",
    "    {\"navn\": \"Lewis Hamilton\", \"nasjonalitet\": \"britisk\", \"team\": \"Mercedes\", \"bilnummer\": 44, \"bilde\": \"https://upload.wikimedia.org/wikipedia/commons/thumb/1/1e/Lewis_Hamilton_2016_Malaysia_2.jpg/220px-Lewis_Hamilton_2016_Malaysia_2.jpg\"},\n",
    "    {\"navn\": \"Max Verstappen\", \"nasjonalitet\": \"nederlandsk\", \"team\": \"Red Bull Racing\", \"bilnummer\": 33, \"bilde\": \"https://upload.wikimedia.org/wikipedia/commons/thumb/2/2c/Max_Verstappen_2017_Malaysia_2.jpg/220px-Max_Verstappen_2017_Malaysia_2.jpg\"},\n",
    "    {\"navn\": \"Valtteri Bottas\", \"nasjonalitet\": \"finsk\", \"team\": \"Mercedes\", \"bilnummer\": 77, \"bilde\": \"https://upload.wikimedia.org/wikipedia/commons/thumb/5/5f/Valtteri_Bottas_2019_Australia_2.jpg/220px-Valtteri_Bottas_2019_Australia_2.jpg\"},\n",
    "    {\"navn\": \"Sergio Perez\", \"nasjonalitet\": \"meksikansk\", \"team\": \"Red Bull Racing\", \"bilnummer\": 11, \"bilde\": \"https://upload.wikimedia.org/wikipedia/commons/thumb/4/4d/Sergio_Perez_2019_Australia_2.jpg/220px-Sergio_Perez_2019_Australia_2.jpg\"},\n",
    "    {\"navn\": \"Lando Norris\", \"nasjonalitet\": \"britisk\", \"team\": \"McLaren\", \"bilnummer\": 4, \"bilde\": \"https://upload.wikimedia.org/wikipedia/commons/thumb/3/3e/Lando_Norris_2019_Australia_2.jpg/220px-Lando_Norris_2019_Australia_2.jpg\"},\n",
    "    {\"navn\": \"Charles Leclerc\", \"nasjonalitet\": \"monégaskisk\", \"team\": \"Ferrari\", \"bilnummer\": 16, \"bilde\": \"https://upload.wikimedia.org/wikipedia/commons/thumb/5/5a/Charles_Leclerc_2019_Australia_2.jpg/220px-Charles_Leclerc_2019_Australia_2.jpg\"},\n",
    "    {\"navn\": \"Carlos Sainz\", \"nasjonalitet\": \"spansk\", \"team\": \"Ferrari\", \"bilnummer\": 55, \"bilde\": \"https://upload.wikimedia.org/wikipedia/commons/thumb/3/3f/Carlos_Sainz_Jr._2019_Australia_2.jpg/220px-Carlos_Sainz_Jr._2019_Australia_2.jpg\"},\n",
    "    {\"navn\": \"Daniel Ricciardo\", \"nasjonalitet\": \"australsk\", \"team\": \"McLaren\", \"bilnummer\": 3, \"bilde\": \"https://upload.wikimedia.org/wikipedia/commons/thumb/5/5f/Daniel_Ricciardo_2019_Australia_2.jpg/220px-Daniel_Ricciardo_2019_Australia_2.jpg\"},\n",
    "    {\"navn\": \"Sebastian Vettel\", \"nasjonalitet\": \"tysk\", \"team\": \"Aston Martin\", \"bilnummer\": 5, \"bilde\": \"https://upload.wikimedia.org/wikipedia/commons/thumb/8/8c/Sebastian_Vettel_2019_Australia_2.jpg/220px-Sebastian_Vettel_2019_Australia_2.jpg\"},\n",
    "    {\"navn\": \"Fernando Alonso\", \"nasjonalitet\": \"spansk\", \"team\": \"Alpine\", \"bilnummer\": 14, \"bilde\": \"https://upload.wikimedia.org/wikipedia/commons/thumb/7/7c/Fernando_Alonso_2019_Australia_2.jpg/220px-Fernando_Alonso_2019_Australia_2.jpg\"},\n",
    "    {\"navn\": \"Esteban Ocon\", \"nasjonalitet\": \"fransk\", \"team\": \"Alpine\", \"bilnummer\": 31, \"bilde\": \"https://upload.wikimedia.org/wikipedia/commons/thumb/5/5c/Esteban_Ocon_2019_Australia_2.jpg/220px-Esteban_Ocon_2019_Australia_2.jpg\"},\n",
    "    {\"navn\": \"Pierre Gasly\", \"nasjonalitet\": \"fransk\", \"team\": \"AlphaTauri\", \"bilnummer\": 10, \"bilde\": \"https://upload.wikimedia.org/wikipedia/commons/thumb/8/8c/Pierre_Gasly_2019_Australia_2.jpg/220px-Pierre_Gasly_2019_Australia_2.jpg\"},\n",
    "    {\"navn\": \"Yuki Tsunoda\", \"nasjonalitet\": \"japansk\", \"team\": \"AlphaTauri\", \"bilnummer\": 22, \"bilde\": \"https://upload.wikimedia.org/wikipedia/commons/thumb/7/7e/Yuki_Tsunoda_2019_Australia_2.jpg/220px-Yuki_Tsunoda_2019_Australia_2.jpg\"},\n",
    "    {\"navn\": \"Lance Stroll\", \"nasjonalitet\": \"canadisk\", \"team\": \"Aston Martin\", \"bilnummer\": 18, \"bilde\": \"https://upload.wikimedia.org/wikipedia/commons/thumb/6/6d/Lance_Stroll_2019_Australia_2.jpg/220px-Lance_Stroll_2019_Australia_2.jpg\"},\n",
    "    {\"navn\": \"George Russell\", \"nasjonalitet\": \"britisk\", \"team\": \"Williams\", \"bilnummer\": 63, \"bilde\": \"https://upload.wikimedia.org/wikipedia/commons/thumb/4/4a/George_Russell_2019_Australia_2.jpg/220px-George_Russell_2019_Australia_2.jpg\"},\n",
    "    {\"navn\": \"Nicholas Latifi\", \"nasjonalitet\": \"canadisk\", \"team\": \"Williams\", \"bilnummer\": 6, \"bilde\": \"https://upload.wikimedia.org/wikipedia/commons/thumb/9/9d/Nicholas_Latifi_2019_Australia_2.jpg/220px-Nicholas_Latifi_2019_Australia_2.jpg\"},\n",
    "    {\"navn\": \"Mick Schumacher\", \"nasjonalitet\": \"tysk\", \"team\": \"Haas\", \"bilnummer\": 47, \"bilde\": \"https://upload.wikimedia.org/wikipedia/commons/thumb/5/5c/Mick_Schumacher_2019_Australia_2.jpg/220px-Mick_Schumacher_2019_Australia_2.jpg\"},\n",
    "    {\"navn\": \"Nikita Mazepin\", \"nasjonalitet\": \"russisk\", \"team\": \"Haas\", \"bilnummer\": 9, \"bilde\": \"https://upload.wikimedia.org/wikipedia/commons/thumb/9/9c/Nikita_Mazepin_2019_Australia_2.jpg/220px-Nikita_Mazepin_2019_Australia_2.jpg\"},\n",
    "    {\"navn\": \"Robert Kubica\", \"nasjonalitet\": \"polsk\", \"team\": \"Alfa Romeo Racing\", \"bilnummer\": 88, \"bilde\": \"https://upload.wikimedia.org/wikipedia/commons/thumb/3/3e/Robert_Kubica_2019_Australia_2.jpg/220px-Robert_Kubica_2019_Australia_2.jpg\"},\n",
    "    {\"navn\": \"Antonio Giovinazzi\", \"nasjonalitet\": \"italiensk\", \"team\": \"Alfa Romeo Racing\", \"bilnummer\": 99, \"bilde\": \"https://upload.wikimedia.org/wikipedia/commons/thumb/9/9e/Antonio_Giovinazzi_2019_Australia_2.jpg/220px-Antonio_Giovinazzi_2019_Australia_2.jpg\"}\n",
    "]\n",
    "\n"
   ]
  },
  {
   "cell_type": "code",
   "execution_count": 62,
   "metadata": {},
   "outputs": [
    {
     "name": "stdout",
     "output_type": "stream",
     "text": [
      "finsk\n",
      "Navn: Lewis Hamilton, Nasjonalitet: britisk\n"
     ]
    },
    {
     "ename": "KeyError",
     "evalue": "'najsonalitet'",
     "output_type": "error",
     "traceback": [
      "\u001b[0;31m---------------------------------------------------------------------------\u001b[0m",
      "\u001b[0;31mKeyError\u001b[0m                                  Traceback (most recent call last)",
      "Cell \u001b[0;32mIn[62], line 10\u001b[0m\n\u001b[1;32m      8\u001b[0m \u001b[38;5;28;01mfor\u001b[39;00m f1_sjåfør \u001b[38;5;129;01min\u001b[39;00m f1_sjåfører:\n\u001b[1;32m      9\u001b[0m     \u001b[38;5;28mprint\u001b[39m(\u001b[38;5;124mf\u001b[39m\u001b[38;5;124m\"\u001b[39m\u001b[38;5;124mNavn: \u001b[39m\u001b[38;5;132;01m{\u001b[39;00mf1_sjåfør[\u001b[38;5;124m'\u001b[39m\u001b[38;5;124mnavn\u001b[39m\u001b[38;5;124m'\u001b[39m]\u001b[38;5;132;01m}\u001b[39;00m\u001b[38;5;124m, Nasjonalitet: \u001b[39m\u001b[38;5;132;01m{\u001b[39;00mf1_sjåfør[\u001b[38;5;124m'\u001b[39m\u001b[38;5;124mnasjonalitet\u001b[39m\u001b[38;5;124m'\u001b[39m]\u001b[38;5;132;01m}\u001b[39;00m\u001b[38;5;124m\"\u001b[39m)\n\u001b[0;32m---> 10\u001b[0m     \u001b[38;5;28;01mif\u001b[39;00m \u001b[43mf1_sjåfør\u001b[49m\u001b[43m[\u001b[49m\u001b[38;5;124;43m'\u001b[39;49m\u001b[38;5;124;43mnajsonalitet\u001b[39;49m\u001b[38;5;124;43m'\u001b[39;49m\u001b[43m]\u001b[49m \u001b[38;5;241m==\u001b[39m \u001b[38;5;124m'\u001b[39m\u001b[38;5;124mbritisk\u001b[39m\u001b[38;5;124m'\u001b[39m:\n\u001b[1;32m     11\u001b[0m          antall_briter \u001b[38;5;241m+\u001b[39m\u001b[38;5;241m=\u001b[39m \u001b[38;5;241m1\u001b[39m\n\u001b[1;32m     12\u001b[0m \u001b[38;5;28mprint\u001b[39m(\u001b[38;5;124mf\u001b[39m\u001b[38;5;124m\"\u001b[39m\u001b[38;5;124mantall briter:\u001b[39m\u001b[38;5;132;01m{\u001b[39;00mantall_briter\u001b[38;5;132;01m}\u001b[39;00m\u001b[38;5;124m\"\u001b[39m)\n",
      "\u001b[0;31mKeyError\u001b[0m: 'najsonalitet'"
     ]
    }
   ],
   "source": [
    "#oppvarming: print Valtteri Bottas nationalitet \n",
    "\n",
    "print(f1_sjåfører[2][\"nasjonalitet\"])\n",
    "\n",
    "# oppgaverming: 2 print navn og nasjonalitet på alle sjoførene i lista\n",
    "\n",
    "antall_briter = 1\n",
    "for f1_sjåfør in f1_sjåfører:\n",
    "    print(f\"Navn: {f1_sjåfør['navn']}, Nasjonalitet: {f1_sjåfør['nasjonalitet']}\")\n",
    "    if f1_sjåfør['najsonalitet'] == 'britisk':\n",
    "         antall_briter += 1\n",
    "print(f\"antall briter:{antall_briter}\")\n",
    "\n"
   ]
  },
  {
   "cell_type": "code",
   "execution_count": 54,
   "metadata": {},
   "outputs": [
    {
     "data": {
      "text/plain": [
       "{'britisk': 3,\n",
       " 'nederlandsk': 1,\n",
       " 'finsk': 1,\n",
       " 'meksikansk': 1,\n",
       " 'monégaskisk': 1,\n",
       " 'spansk': 2,\n",
       " 'australsk': 1,\n",
       " 'tysk': 2,\n",
       " 'fransk': 2,\n",
       " 'japansk': 1,\n",
       " 'canadisk': 2,\n",
       " 'russisk': 1,\n",
       " 'polsk': 1,\n",
       " 'italiensk': 1}"
      ]
     },
     "execution_count": 54,
     "metadata": {},
     "output_type": "execute_result"
    }
   ],
   "source": [
    "# Telling av nasjonaliteter med ordbok\n",
    "\n",
    "\n",
    "antall_nasjonliteter = {}\n",
    "\n",
    "for f1_sjåfør in f1_sjåfører:\n",
    "    nasjonalitet = f1_sjåfør['nasjonalitet']\n",
    "    if nasjonalitet not in antall_nasjonliteter:\n",
    "        antall_nasjonliteter[nasjonalitet] = 1\n",
    "    else:\n",
    "        antall_nasjonliteter [nasjonalitet] += 1 \n",
    "            \n",
    "             \n",
    "             \n",
    "\n",
    "\n",
    "antall_nasjonliteter"
   ]
  },
  {
   "cell_type": "code",
   "execution_count": null,
   "metadata": {},
   "outputs": [],
   "source": [
    "#lag er ordbok som inneholder verdensdeler og antall land som har den verdensdelen"
   ]
  },
  {
   "cell_type": "markdown",
   "metadata": {},
   "source": [
    "### Eksempel 2: Land\n",
    "\n",
    "**Oppgave 1**: lag en oversikt som viser antall land i de ulike verdensdelene  \n",
    "**Oppgave 2**: lag en oversikt som viser språk og antall land som har språket som offisielt språk."
   ]
  },
  {
   "cell_type": "code",
   "execution_count": 37,
   "metadata": {},
   "outputs": [],
   "source": [
    "land_info = [\n",
    "    {\"land\": \"Kina\", \"hovedstad\": \"Beijing\", \"befolkning\": 1410000000, \"språk\": [\"Mandarin\"]},\n",
    "    {\"land\": \"India\", \"hovedstad\": \"New Delhi\", \"befolkning\": 1390000000, \"språk\": [\"Hindi\", \"Engelsk\"]},\n",
    "    {\"land\": \"USA\", \"hovedstad\": \"Washington, D.C.\", \"befolkning\": 331000000, \"språk\": [\"Engelsk\"]},\n",
    "    {\"land\": \"Indonesia\", \"hovedstad\": \"Jakarta\", \"befolkning\": 273000000, \"språk\": [\"Indonesisk\"]},\n",
    "    {\"land\": \"Pakistan\", \"hovedstad\": \"Islamabad\", \"befolkning\": 225000000, \"språk\": [\"Urdu\", \"Engelsk\"]},\n",
    "    {\"land\": \"Brasil\", \"hovedstad\": \"Brasília\", \"befolkning\": 213000000, \"språk\": [\"Portugisisk\"]},\n",
    "    {\"land\": \"Nigeria\", \"hovedstad\": \"Abuja\", \"befolkning\": 211000000, \"språk\": [\"Engelsk\"]},\n",
    "    {\"land\": \"Bangladesh\", \"hovedstad\": \"Dhaka\", \"befolkning\": 166000000, \"språk\": [\"Bengali\"]},\n",
    "    {\"land\": \"Russland\", \"hovedstad\": \"Moskva\", \"befolkning\": 146000000, \"språk\": [\"Russisk\"]},\n",
    "    {\"land\": \"Mexico\", \"hovedstad\": \"Mexico City\", \"befolkning\": 128000000, \"språk\": [\"Spansk\"]},\n",
    "    {\"land\": \"Japan\", \"hovedstad\": \"Tokyo\", \"befolkning\": 125000000, \"språk\": [\"Japansk\"]},\n",
    "    {\"land\": \"Etiopia\", \"hovedstad\": \"Addis Ababa\", \"befolkning\": 118000000, \"språk\": [\"Amharisk\"]},\n",
    "    {\"land\": \"Filippinene\", \"hovedstad\": \"Manila\", \"befolkning\": 113000000, \"språk\": [\"Filippinsk\"]},\n",
    "    {\"land\": \"Egypt\", \"hovedstad\": \"Kairo\", \"befolkning\": 104000000, \"språk\": [\"Arabisk\"]},\n",
    "    {\"land\": \"Vietnam\", \"hovedstad\": \"Hanoi\", \"befolkning\": 97400000, \"språk\": [\"Vietnamesisk\"]},\n",
    "    {\"land\": \"DR Kongo\", \"hovedstad\": \"Kinshasa\", \"befolkning\": 90000000, \"språk\": [\"Fransk\"]},\n",
    "    {\"land\": \"Turkey\", \"hovedstad\": \"Ankara\", \"befolkning\": 83700000, \"språk\": [\"Tyrkisk\"]},\n",
    "    {\"land\": \"Iran\", \"hovedstad\": \"Teheran\", \"befolkning\": 83700000, \"språk\": [\"Persisk\"]},\n",
    "    {\"land\": \"Tyskland\", \"hovedstad\": \"Berlin\", \"befolkning\": 83000000, \"språk\": [\"Tysk\"]},\n",
    "    {\"land\": \"Thailand\", \"hovedstad\": \"Bangkok\", \"befolkning\": 70000000, \"språk\": [\"Thai\"]},\n",
    "    {\"land\": \"Frankrike\", \"hovedstad\": \"Paris\", \"befolkning\": 67000000, \"språk\": [\"Fransk\"]},\n",
    "    {\"land\": \"Storbritannia\", \"hovedstad\": \"London\", \"befolkning\": 67000000, \"språk\": [\"Engelsk\"]},\n",
    "    {\"land\": \"Italia\", \"hovedstad\": \"Roma\", \"befolkning\": 60300000, \"språk\": [\"Italiensk\"]},\n",
    "    {\"land\": \"Sør-Afrika\", \"hovedstad\": \"Pretoria, Cape Town, Bloemfontein\", \"befolkning\": 60000000,\n",
    "     \"språk\": [\"Afrikaans\", \"Engelsk\", \"isiNdebele\", \"isiXhosa\", \"isiZulu\", \"sesotho\", \"Setswana\", \"siSwati\", \"Tshivenda\", \"Xitsonga\"]},\n",
    "    {\"land\": \"Myanmar\", \"hovedstad\": \"Naypyidaw\", \"befolkning\": 54400000, \"språk\": [\"Burmese\"]},\n",
    "    {\"land\": \"Sør-Korea\", \"hovedstad\": \"Seoul\", \"befolkning\": 51700000, \"språk\": [\"Koreansk\"]},\n",
    "    {\"land\": \"Colombia\", \"hovedstad\": \"Bogotá\", \"befolkning\": 50300000, \"språk\": [\"Spansk\"]},\n",
    "    {\"land\": \"Kenya\", \"hovedstad\": \"Nairobi\", \"befolkning\": 49000000, \"språk\": [\"Swahili\", \"Engelsk\"]},\n",
    "    {\"land\": \"Spania\", \"hovedstad\": \"Madrid\", \"befolkning\": 47000000, \"språk\": [\"Spansk\"]},\n",
    "    {\"land\": \"Argentina\", \"hovedstad\": \"Buenos Aires\", \"befolkning\": 45000000, \"språk\": [\"Spansk\"]},\n",
    "    {\"land\": \"Thailand\", \"hovedstad\": \"Bangkok\", \"befolkning\": 70000000, \"språk\": [\"Thai\"], \"verdensdel\": \"Asia\"},\n",
    "    {\"land\": \"Frankrike\", \"hovedstad\": \"Paris\", \"befolkning\": 67000000, \"språk\": [\"Fransk\"], \"verdensdel\": \"Europa\"},\n",
    "    {\"land\": \"Storbritannia\", \"hovedstad\": \"London\", \"befolkning\": 67000000, \"språk\": [\"Engelsk\"], \"verdensdel\": \"Europa\"},\n",
    "    {\"land\": \"Italia\", \"hovedstad\": \"Roma\", \"befolkning\": 60300000, \"språk\": [\"Italiensk\"], \"verdensdel\": \"Europa\"},\n",
    "    {\"land\": \"Sør-Afrika\", \"hovedstad\": \"Pretoria, Cape Town, Bloemfontein\", \"befolkning\": 60000000,\n",
    "     \"språk\": [\"Afrikaans\", \"Engelsk\", \"isiNdebele\", \"isiXhosa\", \"isiZulu\", \"sesotho\", \"Setswana\", \"siSwati\", \"Tshivenda\", \"Xitsonga\"], \"verdensdel\": \"Afrika\"},\n",
    "    {\"land\": \"Myanmar\", \"hovedstad\": \"Naypyidaw\", \"befolkning\": 54400000, \"språk\": [\"Burmese\"], \"verdensdel\": \"Asia\"},\n",
    "    {\"land\": \"Sør-Korea\", \"hovedstad\": \"Seoul\", \"befolkning\": 51700000, \"språk\": [\"Koreansk\"], \"verdensdel\": \"Asia\"},\n",
    "    {\"land\": \"Colombia\", \"hovedstad\": \"Bogotá\", \"befolkning\": 50300000, \"språk\": [\"Spansk\"], \"verdensdel\": \"Sør-Amerika\"},\n",
    "    {\"land\": \"Kenya\", \"hovedstad\": \"Nairobi\", \"befolkning\": 49000000, \"språk\": [\"Swahili\", \"Engelsk\"], \"verdensdel\": \"Afrika\"},\n",
    "    {\"land\": \"Spania\", \"hovedstad\": \"Madrid\", \"befolkning\": 47000000, \"språk\": [\"Spansk\"], \"verdensdel\": \"Europa\"},\n",
    "    {\"land\": \"Argentina\", \"hovedstad\": \"Buenos Aires\", \"befolkning\": 45000000, \"språk\": [\"Spansk\"], \"verdensdel\": \"Sør-Amerika\"},\n",
    "]\n"
   ]
  },
  {
   "cell_type": "code",
   "execution_count": 27,
   "metadata": {},
   "outputs": [
    {
     "name": "stdout",
     "output_type": "stream",
     "text": [
      "{'Asia': 3, 'Europa': 4, 'Afrika': 2, 'Sør-Amerika': 2}\n"
     ]
    }
   ],
   "source": [
    "#lag er ordbok som inneholder verdensdeler og antall land som har den verdensdelen\n",
    "\n",
    "land_info = [\n",
    "\n",
    "    {\"land\": \"Thailand\", \"hovedstad\": \"Bangkok\", \"befolkning\": 70000000, \"språk\": [\"Thai\"], \"verdensdel\": \"Asia\"},\n",
    "    {\"land\": \"Frankrike\", \"hovedstad\": \"Paris\", \"befolkning\": 67000000, \"språk\": [\"Fransk\"], \"verdensdel\": \"Europa\"},\n",
    "    {\"land\": \"Storbritannia\", \"hovedstad\": \"London\", \"befolkning\": 67000000, \"språk\": [\"Engelsk\"], \"verdensdel\": \"Europa\"},\n",
    "    {\"land\": \"Italia\", \"hovedstad\": \"Roma\", \"befolkning\": 60300000, \"språk\": [\"Italiensk\"], \"verdensdel\": \"Europa\"},\n",
    "    {\"land\": \"Sør-Afrika\", \"hovedstad\": \"Pretoria, Cape Town, Bloemfontein\", \"befolkning\": 60000000,\n",
    "     \"språk\": [\"Afrikaans\", \"Engelsk\", \"isiNdebele\", \"isiXhosa\", \"isiZulu\", \"sesotho\", \"Setswana\", \"siSwati\", \"Tshivenda\", \"Xitsonga\"], \"verdensdel\": \"Afrika\"},\n",
    "    {\"land\": \"Myanmar\", \"hovedstad\": \"Naypyidaw\", \"befolkning\": 54400000, \"språk\": [\"Burmese\"], \"verdensdel\": \"Asia\"},\n",
    "    {\"land\": \"Sør-Korea\", \"hovedstad\": \"Seoul\", \"befolkning\": 51700000, \"språk\": [\"Koreansk\"], \"verdensdel\": \"Asia\"},\n",
    "    {\"land\": \"Colombia\", \"hovedstad\": \"Bogotá\", \"befolkning\": 50300000, \"språk\": [\"Spansk\"], \"verdensdel\": \"Sør-Amerika\"},\n",
    "    {\"land\": \"Kenya\", \"hovedstad\": \"Nairobi\", \"befolkning\": 49000000, \"språk\": [\"Swahili\", \"Engelsk\"], \"verdensdel\": \"Afrika\"},\n",
    "    {\"land\": \"Spania\", \"hovedstad\": \"Madrid\", \"befolkning\": 47000000, \"språk\": [\"Spansk\"], \"verdensdel\": \"Europa\"},\n",
    "    {\"land\": \"Argentina\", \"hovedstad\": \"Buenos Aires\", \"befolkning\": 45000000, \"språk\": [\"Spansk\"], \"verdensdel\": \"Sør-Amerika\"},\n",
    "]\n",
    "\n",
    "\n",
    "\n",
    "\n",
    "verdensdeler = {}\n",
    "\n",
    "for land in land_info:\n",
    "    verdensdel = land['verdensdel']\n",
    "    if verdensdel in verdensdeler:\n",
    "        verdensdeler[verdensdel] += 1\n",
    "    else:\n",
    "        verdensdeler[verdensdel] = 1\n",
    "\n",
    "\n",
    "print(verdensdeler)\n",
    "\n",
    "\n"
   ]
  },
  {
   "cell_type": "code",
   "execution_count": 57,
   "metadata": {},
   "outputs": [
    {
     "data": {
      "text/plain": [
       "{'Mandarin': 1,\n",
       " 'Hindi': 1,\n",
       " 'Engelsk': 10,\n",
       " 'Indonesisk': 1,\n",
       " 'Urdu': 1,\n",
       " 'Portugisisk': 1,\n",
       " 'Bengali': 1,\n",
       " 'Russisk': 1,\n",
       " 'Spansk': 7,\n",
       " 'Japansk': 1,\n",
       " 'Amharisk': 1,\n",
       " 'Filippinsk': 1,\n",
       " 'Arabisk': 1,\n",
       " 'Vietnamesisk': 1,\n",
       " 'Fransk': 3,\n",
       " 'Tyrkisk': 1,\n",
       " 'Persisk': 1,\n",
       " 'Tysk': 1,\n",
       " 'Thai': 2,\n",
       " 'Italiensk': 2,\n",
       " 'Afrikaans': 2,\n",
       " 'isiNdebele': 2,\n",
       " 'isiXhosa': 2,\n",
       " 'isiZulu': 2,\n",
       " 'sesotho': 2,\n",
       " 'Setswana': 2,\n",
       " 'siSwati': 2,\n",
       " 'Tshivenda': 2,\n",
       " 'Xitsonga': 2,\n",
       " 'Burmese': 2,\n",
       " 'Koreansk': 2,\n",
       " 'Swahili': 2}"
      ]
     },
     "execution_count": 57,
     "metadata": {},
     "output_type": "execute_result"
    }
   ],
   "source": [
    "#telle språk og antall land som har språket som osfisielt språk\n",
    "\n",
    "språk_antall = {}\n",
    "\n",
    "for land in land_info:\n",
    "    for språk in land['språk']:\n",
    "        if språk in språk_antall:\n",
    "            språk_antall[språk] += 1\n",
    "        else:\n",
    "            språk_antall[språk] = 1\n",
    "\n",
    "\n",
    "\n",
    "språk_antall # trenger ikke skrive print i jpyter "
   ]
  },
  {
   "cell_type": "markdown",
   "metadata": {},
   "source": [
    "\n",
    "\n",
    "\n",
    "## Sortere ordbøker\n",
    "\n",
    "- [it2.thorcc.no - Sortere ordbøker med verdier](https://it2.thorcc.no/databehandling-og-algoritmer/lokker-lister-og-ordboker#sortering-av-ordb%C3%B8ker-med-verdier)\n"
   ]
  },
  {
   "cell_type": "code",
   "execution_count": 46,
   "metadata": {},
   "outputs": [
    {
     "name": "stdout",
     "output_type": "stream",
     "text": [
      "Språket som er offisielt språk i flest land er Engelsk(10 land)\n"
     ]
    }
   ],
   "source": [
    "språk_liste = språk_antall.items() # lager en liste av ordboka\n",
    "list(språk_liste)\n",
    "språk_liste_sortert = sorted(språk_liste, key=lambda språk:språk [1], reverse = True)\n",
    "språk_flest = språk_liste_sortert[0][0]\n",
    "språk_flest_antall = språk_liste_sortert[0][1]\n",
    "print(f\"Språket som er offisielt språk i flest land er {språk_flest}({språk_flest_antall} land)\") \n",
    "\n",
    "\n"
   ]
  },
  {
   "cell_type": "markdown",
   "metadata": {},
   "source": [
    "## Plotting\n",
    "\n",
    "- [it2.thorcc.no - Plotting](https://it2.thorcc.no/databehandling-og-algoritmer/plotting)"
   ]
  },
  {
   "cell_type": "code",
   "execution_count": 50,
   "metadata": {},
   "outputs": [
    {
     "ename": "TypeError",
     "evalue": "axis() takes 0 or 1 positional arguments but 2 were given",
     "output_type": "error",
     "traceback": [
      "\u001b[0;31m---------------------------------------------------------------------------\u001b[0m",
      "\u001b[0;31mTypeError\u001b[0m                                 Traceback (most recent call last)",
      "Cell \u001b[0;32mIn[50], line 6\u001b[0m\n\u001b[1;32m      3\u001b[0m plt \u001b[38;5;241m.\u001b[39mplot([\u001b[38;5;241m1\u001b[39m,\u001b[38;5;241m2\u001b[39m,\u001b[38;5;241m3\u001b[39m,\u001b[38;5;241m4\u001b[39m], [\u001b[38;5;241m1\u001b[39m,\u001b[38;5;241m4\u001b[39m,\u001b[38;5;241m9\u001b[39m,\u001b[38;5;241m16\u001b[39m])\n\u001b[1;32m      4\u001b[0m \u001b[38;5;66;03m#plt.ålot( liste med x verdier, liste med y verdier )\u001b[39;00m\n\u001b[0;32m----> 6\u001b[0m \u001b[43mplt\u001b[49m\u001b[38;5;241;43m.\u001b[39;49m\u001b[43maxis\u001b[49m\u001b[43m(\u001b[49m\u001b[43m[\u001b[49m\u001b[38;5;241;43m1\u001b[39;49m\u001b[43m,\u001b[49m\u001b[38;5;241;43m2\u001b[39;49m\u001b[43m,\u001b[49m\u001b[38;5;241;43m3\u001b[39;49m\u001b[43m,\u001b[49m\u001b[38;5;241;43m4\u001b[39;49m\u001b[43m]\u001b[49m\u001b[43m,\u001b[49m\u001b[43m \u001b[49m\u001b[43m[\u001b[49m\u001b[38;5;241;43m1\u001b[39;49m\u001b[43m,\u001b[49m\u001b[38;5;241;43m8\u001b[39;49m\u001b[43m,\u001b[49m\u001b[38;5;241;43m27\u001b[39;49m\u001b[43m,\u001b[49m\u001b[38;5;241;43m64\u001b[39;49m\u001b[43m]\u001b[49m\u001b[43m)\u001b[49m\n\u001b[1;32m      8\u001b[0m plt\u001b[38;5;241m.\u001b[39maxis([\u001b[38;5;241m0\u001b[39m,\u001b[38;5;241m5\u001b[39m,\u001b[38;5;241m0\u001b[39m,\u001b[38;5;241m70\u001b[39m])\n\u001b[1;32m     10\u001b[0m plt\u001b[38;5;241m.\u001b[39mtitle(\u001b[38;5;124m\"\u001b[39m\u001b[38;5;124mnoen tall\u001b[39m\u001b[38;5;124m\"\u001b[39m)\n",
      "File \u001b[0;32m/Library/Frameworks/Python.framework/Versions/3.10/lib/python3.10/site-packages/matplotlib/pyplot.py:2341\u001b[0m, in \u001b[0;36maxis\u001b[0;34m(emit, *args, **kwargs)\u001b[0m\n\u001b[1;32m   2339\u001b[0m \u001b[38;5;129m@_copy_docstring_and_deprecators\u001b[39m(Axes\u001b[38;5;241m.\u001b[39maxis)\n\u001b[1;32m   2340\u001b[0m \u001b[38;5;28;01mdef\u001b[39;00m \u001b[38;5;21maxis\u001b[39m(\u001b[38;5;241m*\u001b[39margs, emit\u001b[38;5;241m=\u001b[39m\u001b[38;5;28;01mTrue\u001b[39;00m, \u001b[38;5;241m*\u001b[39m\u001b[38;5;241m*\u001b[39mkwargs):\n\u001b[0;32m-> 2341\u001b[0m     \u001b[38;5;28;01mreturn\u001b[39;00m \u001b[43mgca\u001b[49m\u001b[43m(\u001b[49m\u001b[43m)\u001b[49m\u001b[38;5;241;43m.\u001b[39;49m\u001b[43maxis\u001b[49m\u001b[43m(\u001b[49m\u001b[38;5;241;43m*\u001b[39;49m\u001b[43margs\u001b[49m\u001b[43m,\u001b[49m\u001b[43m \u001b[49m\u001b[43memit\u001b[49m\u001b[38;5;241;43m=\u001b[39;49m\u001b[43memit\u001b[49m\u001b[43m,\u001b[49m\u001b[43m \u001b[49m\u001b[38;5;241;43m*\u001b[39;49m\u001b[38;5;241;43m*\u001b[39;49m\u001b[43mkwargs\u001b[49m\u001b[43m)\u001b[49m\n",
      "File \u001b[0;32m/Library/Frameworks/Python.framework/Versions/3.10/lib/python3.10/site-packages/matplotlib/axes/_base.py:2082\u001b[0m, in \u001b[0;36m_AxesBase.axis\u001b[0;34m(self, emit, *args, **kwargs)\u001b[0m\n\u001b[1;32m   2024\u001b[0m \u001b[38;5;250m\u001b[39m\u001b[38;5;124;03m\"\"\"\u001b[39;00m\n\u001b[1;32m   2025\u001b[0m \u001b[38;5;124;03mConvenience method to get or set some axis properties.\u001b[39;00m\n\u001b[1;32m   2026\u001b[0m \n\u001b[0;32m   (...)\u001b[0m\n\u001b[1;32m   2079\u001b[0m \u001b[38;5;124;03mmatplotlib.axes.Axes.set_ylim\u001b[39;00m\n\u001b[1;32m   2080\u001b[0m \u001b[38;5;124;03m\"\"\"\u001b[39;00m\n\u001b[1;32m   2081\u001b[0m \u001b[38;5;28;01mif\u001b[39;00m \u001b[38;5;28mlen\u001b[39m(args) \u001b[38;5;241m>\u001b[39m \u001b[38;5;241m1\u001b[39m:\n\u001b[0;32m-> 2082\u001b[0m     \u001b[38;5;28;01mraise\u001b[39;00m \u001b[38;5;167;01mTypeError\u001b[39;00m(\u001b[38;5;124m\"\u001b[39m\u001b[38;5;124maxis() takes 0 or 1 positional arguments but \u001b[39m\u001b[38;5;124m\"\u001b[39m\n\u001b[1;32m   2083\u001b[0m                     \u001b[38;5;124mf\u001b[39m\u001b[38;5;124m\"\u001b[39m\u001b[38;5;132;01m{\u001b[39;00m\u001b[38;5;28mlen\u001b[39m(args)\u001b[38;5;132;01m}\u001b[39;00m\u001b[38;5;124m were given\u001b[39m\u001b[38;5;124m\"\u001b[39m)\n\u001b[1;32m   2084\u001b[0m \u001b[38;5;28;01melif\u001b[39;00m \u001b[38;5;28mlen\u001b[39m(args) \u001b[38;5;241m==\u001b[39m \u001b[38;5;241m1\u001b[39m \u001b[38;5;129;01mand\u001b[39;00m \u001b[38;5;28misinstance\u001b[39m(args[\u001b[38;5;241m0\u001b[39m], (\u001b[38;5;28mstr\u001b[39m, \u001b[38;5;28mbool\u001b[39m)):\n\u001b[1;32m   2085\u001b[0m     s \u001b[38;5;241m=\u001b[39m args[\u001b[38;5;241m0\u001b[39m]\n",
      "\u001b[0;31mTypeError\u001b[0m: axis() takes 0 or 1 positional arguments but 2 were given"
     ]
    },
    {
     "data": {
      "image/png": "[encoded data removed]",
      "text/plain": [
       "<Figure size 640x480 with 1 Axes>"
      ]
     },
     "metadata": {},
     "output_type": "display_data"
    }
   ],
   "source": [
    "# et eksempel plott\n",
    "\n",
    "import matplotlib.pyplot as plt\n",
    "\n",
    "plt .plot([1,2,3,4], [1,4,9,16])\n",
    "#plt.plot( liste med x verdier, liste med y verdier )\n",
    "\n",
    "plt.axis([1,2,3,4], [1,8,27,64])\n",
    "\n",
    "plt.axis([0,5,0,70])\n",
    "\n",
    "plt.title(\"noen tall\")\n",
    "plt.xlabel(\"x-verdier\")\n",
    "plt.ylabel(\"y-verdi\")\n",
    "\n"
   ]
  },
  {
   "cell_type": "code",
   "execution_count": 60,
   "metadata": {},
   "outputs": [
    {
     "name": "stdout",
     "output_type": "stream",
     "text": [
      "{'Mandarin': 1, 'Hindi': 1, 'Engelsk': 10, 'Indonesisk': 1, 'Urdu': 1, 'Portugisisk': 1, 'Bengali': 1, 'Russisk': 1, 'Spansk': 7, 'Japansk': 1, 'Amharisk': 1, 'Filippinsk': 1, 'Arabisk': 1, 'Vietnamesisk': 1, 'Fransk': 3, 'Tyrkisk': 1, 'Persisk': 1, 'Tysk': 1, 'Thai': 2, 'Italiensk': 2, 'Afrikaans': 2, 'isiNdebele': 2, 'isiXhosa': 2, 'isiZulu': 2, 'sesotho': 2, 'Setswana': 2, 'siSwati': 2, 'Tshivenda': 2, 'Xitsonga': 2, 'Burmese': 2, 'Koreansk': 2, 'Swahili': 2}\n"
     ]
    },
    {
     "data": {
      "text/plain": [
       "['Mandarin', 'Hindi', 'Engelsk', 'Indonesisk', 'Urdu']"
      ]
     },
     "execution_count": 60,
     "metadata": {},
     "output_type": "execute_result"
    },
    {
     "data": {
      "image/png": "[encoded data removed]",
      "text/plain": [
       "<Figure size 640x480 with 1 Axes>"
      ]
     },
     "metadata": {},
     "output_type": "display_data"
    }
   ],
   "source": [
    "# plot av språk og antall land \n",
    "\n",
    "språk_antallspråk = list(språk_antall.keys()) # lager en liste over språk\n",
    "antall = list(språk_antall.values())# lager en liste over antall\n",
    "\n",
    "språk = språk_antallspråk[0:5] # henter ut de 5 første språkene\n",
    "antall = antall [0:5] # henter ut de fem første antallene \n",
    "\n",
    "plt.bar(språk, antall) # tegner et stolpediagram ( plt.bar ) med de 5 første språkene i listen\n",
    "# vi burde kanskje sortere først...\n",
    "\n",
    "språk"
   ]
  },
  {
   "cell_type": "code",
   "execution_count": 61,
   "metadata": {},
   "outputs": [
    {
     "data": {
      "text/plain": [
       "{'britisk': 3,\n",
       " 'nederlandsk': 1,\n",
       " 'finsk': 1,\n",
       " 'meksikansk': 1,\n",
       " 'monégaskisk': 1,\n",
       " 'spansk': 2,\n",
       " 'australsk': 1,\n",
       " 'tysk': 2,\n",
       " 'fransk': 2,\n",
       " 'japansk': 1,\n",
       " 'canadisk': 2,\n",
       " 'russisk': 1,\n",
       " 'polsk': 1,\n",
       " 'italiensk': 1}"
      ]
     },
     "execution_count": 61,
     "metadata": {},
     "output_type": "execute_result"
    }
   ],
   "source": [
    "antall_nasjonliteter\n",
    "\n",
    "# sorter ordboka antall_nasjonaliteter i synkende rekkeføle\n",
    "nasjon_sorted = sorted(nasjon,key=lambda nasjonalitet : nasjonalitet [1], reverse = True)\n",
    "nasjon_ordbok = dict(nasjon_sorted)\n",
    "nasjonalitet = (nasjon_ordbok.keys)\n",
    "antall = list(nasjon_ordbok.keys())\n"
   ]
  },
  {
   "cell_type": "code",
   "execution_count": null,
   "metadata": {},
   "outputs": [],
   "source": []
  },
  {
   "cell_type": "markdown",
   "metadata": {},
   "source": [
    "## Presentere data på nettsider med Flask\n",
    "\n",
    "### Eksempel 1: Nettside med Formel 1-sjåfører\n",
    "\n",
    "- fil: `formel1.py`\n",
    "- data: Formel 1-sjåfører\n",
    "\n",
    "### Eksempel 2: Værapp\n",
    "\n",
    "- fil: `vaerapp.py`\n",
    "- data: https://wttr.in/sandvika?format=j1"
   ]
  }
 ],
 "metadata": {
  "kernelspec": {
   "display_name": "Python 3",
   "language": "python",
   "name": "python3"
  },
  "language_info": {
   "codemirror_mode": {
    "name": "ipython",
    "version": 3
   },
   "file_extension": ".py",
   "mimetype": "text/x-python",
   "name": "python",
   "nbconvert_exporter": "python",
   "pygments_lexer": "ipython3",
   "version": "3.10.0"
  }
 },
 "nbformat": 4,
 "nbformat_minor": 2
}
