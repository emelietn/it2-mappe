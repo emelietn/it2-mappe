{
 "cells": [
  {
   "cell_type": "markdown",
   "metadata": {},
   "source": [
    "# oppgave 2.15 - IMDB\n",
    "\n",
    "1. Hvilken film ligger øverst på listen og hvem har regissert den?\n",
    "2. Hva er gjennomsnittskarakteren til alle filmene på listen?\n",
    "3. Hva er gjennomsnittskarakteren til de ti første filmene?\n",
    "4. Hvilken regissør har regissert flest filmer på listen?\n",
    "    * For hver film er regisørrer en liste. Her holder det med første regissør i listen.\n",
    "    * Bonus: Alle regisørrene i regissørlistene skal telles med.\n",
    "    "
   ]
  },
  {
   "cell_type": "code",
   "execution_count": 3,
   "metadata": {},
   "outputs": [],
   "source": [
    "# filinglesing\n",
    "import json\n",
    "\n",
    "fil = open(\"imdb.json\", encoding=\"utf-8\")\n",
    "filmer = json.load(fil)\n",
    "fil.close()\n",
    "\n"
   ]
  },
  {
   "cell_type": "code",
   "execution_count": 4,
   "metadata": {},
   "outputs": [
    {
     "data": {
      "text/plain": [
       "{'navn': 'Yôjinbô',\n",
       " 'bilde': 'https://m.media-amazon.com/images/M/MV5BZThiZjAzZjgtNDU3MC00YThhLThjYWUtZGRkYjc2ZWZlOTVjXkEyXkFqcGdeQXVyNTA4NzY1MzY@._V1_.jpg',\n",
       " 'sjangere': ['Action', 'Drama', 'Thriller'],\n",
       " 'url': 'https://www.imdb.com//title/tt0055630/',\n",
       " 'beskrivelse': 'A crafty ronin comes to a town divided by two criminal gangs and decides to play them against each other to free the town.',\n",
       " 'dato': '1961-09-13',\n",
       " 'regissører': ['Akira Kurosawa'],\n",
       " 'trailer': 'https://www.imdb.com/video/imdb/vi1659814169/imdb/embed?autoplay=false&width=640',\n",
       " 'karakter': 8.2}"
      ]
     },
     "execution_count": 4,
     "metadata": {},
     "output_type": "execute_result"
    }
   ],
   "source": [
    "filmer[0]"
   ]
  },
  {
   "cell_type": "code",
   "execution_count": 10,
   "metadata": {},
   "outputs": [
    {
     "name": "stdout",
     "output_type": "stream",
     "text": [
      "flmen som ligger øverst i lista er Yôjinbô reggisert av Akira Kurosawa\n",
      "Filmen med høyest karakter er The Shawshank Redemption\n"
     ]
    }
   ],
   "source": [
    "# 1. hvilken film ligger øverst på lista og hvem har reggisert den?\n",
    "## a. Hvis oppgaven mener den filmen som ligger øverst i json fila\n",
    "\n",
    "print(f\"flmen som ligger øverst i lista er {filmer[0] ['navn']} reggisert av {filmer[0]['regissører'][0]}\")\n",
    "\n",
    "## b. hvis oppgaven mener den med høyest karakter\n",
    "høyest = filmer[0]\n",
    "for film in filmer:\n",
    "    if film[\"karakter\"] > høyest [\"karakter\"]:\n",
    "        høyest = film\n",
    "\n",
    "print(f\"Filmen med høyest karakter er {høyest['navn']}\")"
   ]
  },
  {
   "cell_type": "code",
   "execution_count": 11,
   "metadata": {},
   "outputs": [
    {
     "name": "stdout",
     "output_type": "stream",
     "text": [
      "gjennomsnittskarakteren til filmene er 8.32199999999999\n"
     ]
    }
   ],
   "source": [
    "# hva er gjennomsnittskarakteren til alle filmene?\n",
    "\n",
    "total_karakter = 0\n",
    "for film in filmer:\n",
    "    total_karakter += film['karakter']\n",
    "snittkarakter = total_karakter / len(filmer)\n",
    "print(f\"gjennomsnittskarakteren til filmene er {snittkarakter}\")\n"
   ]
  },
  {
   "cell_type": "code",
   "execution_count": 17,
   "metadata": {},
   "outputs": [
    {
     "name": "stdout",
     "output_type": "stream",
     "text": [
      "gjennomsnittskarakteren til de ti første filmene er [{'navn': 'Yôjinbô', 'bilde': 'https://m.media-amazon.com/images/M/MV5BZThiZjAzZjgtNDU3MC00YThhLThjYWUtZGRkYjc2ZWZlOTVjXkEyXkFqcGdeQXVyNTA4NzY1MzY@._V1_.jpg', 'sjangere': ['Action', 'Drama', 'Thriller'], 'url': 'https://www.imdb.com//title/tt0055630/', 'beskrivelse': 'A crafty ronin comes to a town divided by two criminal gangs and decides to play them against each other to free the town.', 'dato': '1961-09-13', 'regissører': ['Akira Kurosawa'], 'trailer': 'https://www.imdb.com/video/imdb/vi1659814169/imdb/embed?autoplay=false&width=640', 'karakter': 8.2}, {'navn': 'Witness for the Prosecution', 'bilde': 'https://m.media-amazon.com/images/M/MV5BNDQwODU5OWYtNDcyNi00MDQ1LThiOGMtZDkwNWJiM2Y3MDg0XkEyXkFqcGdeQXVyMDI2NDg0NQ@@._V1_.jpg', 'sjangere': ['Crime', 'Drama', 'Mystery'], 'url': 'https://www.imdb.com//title/tt0051201/', 'beskrivelse': 'A veteran British barrister must defend his client in a murder trial that has surprise after surprise.', 'dato': '1958-02-06', 'regissører': ['Billy Wilder'], 'trailer': 'https://www.imdb.com/video/imdb/vi421183001/imdb/embed?autoplay=false&width=640', 'karakter': 8.4}, {'navn': 'Whiplash', 'bilde': 'https://m.media-amazon.com/images/M/MV5BOTA5NDZlZGUtMjAxOS00YTRkLTkwYmMtYWQ0NWEwZDZiNjEzXkEyXkFqcGdeQXVyMTMxODk2OTU@._V1_.jpg', 'sjangere': ['Drama', 'Music'], 'url': 'https://www.imdb.com//title/tt2582802/', 'beskrivelse': 'A promising young drummer enrolls at a cut-throat music conservatory where his dreams of greatness are mentored by an instructor who will stop at nothing to realize a student&apos;s potential.', 'dato': '2014-10-15', 'regissører': ['Damien Chazelle'], 'trailer': 'https://www.imdb.com/video/imdb/vi4006456345/imdb/embed?autoplay=false&width=640', 'karakter': 8.5}, {'navn': 'Warrior', 'bilde': 'https://m.media-amazon.com/images/M/MV5BMTk4ODk5MTMyNV5BMl5BanBnXkFtZTcwMDMyNTg0Ng@@._V1_.jpg', 'sjangere': ['Action', 'Drama', 'Sport'], 'url': 'https://www.imdb.com//title/tt1291584/', 'beskrivelse': 'The youngest son of an alcoholic former boxer returns home, where he&apos;s trained by his father for competition in a mixed martial arts tournament - a path that puts the fighter on a collision course with his estranged, older brother.', 'dato': '2011-09-09', 'regissører': ['Gavin O&apos;Connor'], 'trailer': 'https://www.imdb.com/video/imdb/vi339320089/imdb/embed?autoplay=false&width=640', 'karakter': 8.2}, {'navn': 'WALL·E', 'bilde': 'https://m.media-amazon.com/images/M/MV5BMjExMTg5OTU0NF5BMl5BanBnXkFtZTcwMjMxMzMzMw@@._V1_.jpg', 'sjangere': ['Animation', 'Adventure', 'Family'], 'url': 'https://www.imdb.com//title/tt0910970/', 'beskrivelse': 'In the distant future, a small waste-collecting robot inadvertently embarks on a space journey that will ultimately decide the fate of mankind.', 'dato': '2008-06-27', 'regissører': ['Andrew Stanton'], 'trailer': 'https://www.imdb.com/video/imdb/vi2192703769/imdb/embed?autoplay=false&width=640', 'karakter': 8.4}, {'navn': 'Vertigo', 'bilde': 'https://m.media-amazon.com/images/M/MV5BYTE4ODEwZDUtNDFjOC00NjAxLWEzYTQtYTI1NGVmZmFlNjdiL2ltYWdlL2ltYWdlXkEyXkFqcGdeQXVyNjc1NTYyMjg@._V1_.jpg', 'sjangere': ['Mystery', 'Romance', 'Thriller'], 'url': 'https://www.imdb.com//title/tt0052357/', 'beskrivelse': 'A former San Francisco police detective juggles wrestling with his personal demons and becoming obsessed with the hauntingly beautiful woman he has been hired to trail, who may be deeply disturbed.', 'dato': '1958-05-22', 'regissører': ['Alfred Hitchcock'], 'trailer': 'https://www.imdb.com/video/imdb/vi216072473/imdb/embed?autoplay=false&width=640', 'karakter': 8.3}, {'navn': 'V for Vendetta', 'bilde': 'https://m.media-amazon.com/images/M/MV5BOTI5ODc3NzExNV5BMl5BanBnXkFtZTcwNzYxNzQzMw@@._V1_.jpg', 'sjangere': ['Action', 'Drama', 'Sci-Fi'], 'url': 'https://www.imdb.com//title/tt0434409/', 'beskrivelse': 'In a future British dystopian society, a shadowy freedom fighter, known only by the alias of &quot;V&quot;, plots to overthrow the tyrannical government - with the help of a young woman.', 'dato': '2006-03-17', 'regissører': ['James McTeigue'], 'trailer': 'https://www.imdb.com/video/imdb/vi4276093209/imdb/embed?autoplay=false&width=640', 'karakter': 8.2}, {'navn': 'Up', 'bilde': 'https://m.media-amazon.com/images/M/MV5BMTk3NDE2NzI4NF5BMl5BanBnXkFtZTgwNzE1MzEyMTE@._V1_.jpg', 'sjangere': ['Animation', 'Adventure', 'Comedy'], 'url': 'https://www.imdb.com//title/tt1049413/', 'beskrivelse': '78-year-old Carl Fredricksen travels to Paradise Falls in his house equipped with balloons, inadvertently taking a young stowaway.', 'dato': '2009-05-29', 'regissører': ['Pete Docter', 'Bob Peterson'], 'trailer': 'https://www.imdb.com/video/imdb/vi2557280793/imdb/embed?autoplay=false&width=640', 'karakter': 8.3}, {'navn': 'Unforgiven', 'bilde': 'https://m.media-amazon.com/images/M/MV5BODM3YWY4NmQtN2Y3Ni00OTg0LWFhZGQtZWE3ZWY4MTJlOWU4XkEyXkFqcGdeQXVyNjU0OTQ0OTY@._V1_.jpg', 'sjangere': ['Drama', 'Western'], 'url': 'https://www.imdb.com//title/tt0105695/', 'beskrivelse': 'Retired Old West gunslinger William Munny reluctantly takes on one last job, with the help of his old partner Ned Logan and a young man, The &quot;Schofield Kid.&quot;', 'dato': '1992-08-07', 'regissører': ['Clint Eastwood'], 'trailer': 'https://www.imdb.com/video/imdb/vi3445406489/imdb/embed?autoplay=false&width=640', 'karakter': 8.2}, {'navn': 'Tôkyô monogatari', 'bilde': 'https://m.media-amazon.com/images/M/MV5BYWQ4ZTRiODktNjAzZC00Nzg1LTk1YWQtNDFmNDI0NmZiNGIwXkEyXkFqcGdeQXVyNzkwMjQ5NzM@._V1_.jpg', 'sjangere': ['Drama'], 'url': 'https://www.imdb.com//title/tt0046438/', 'beskrivelse': 'An old couple visit their children and grandchildren in the city, but receive little attention.', 'dato': '1972-03-13', 'regissører': ['Yasujirô Ozu'], 'trailer': 'https://www.imdb.com/video/imdb/vi2320022553/imdb/embed?autoplay=false&width=640', 'karakter': 8.2}]\n"
     ]
    }
   ],
   "source": [
    "# 3. hva er gjennomsnittskarakteren til de 10 første filmene\n",
    "\n",
    "filmer_sortert = sorted(filmer, key= lambda film: film['karakter'], reverse = True)\n",
    "ti_første = filmer [0:10] # lager en ny liste som inneholder de ti første filmene\n",
    "\n",
    "ti_første_karakter = 0\n",
    "for film in ti_første:\n",
    "    ti_første_karakter += film['karakter']\n",
    "snittkarakter_ti_første = ti_første_karakter / len(ti_første)\n",
    "print(f\"gjennomsnittskarakteren til de ti første filmene er {ti_første}\")\n",
    "\n",
    "\n"
   ]
  },
  {
   "cell_type": "code",
   "execution_count": null,
   "metadata": {},
   "outputs": [],
   "source": [
    "filmer_sortert"
   ]
  }
 ],
 "metadata": {
  "kernelspec": {
   "display_name": "Python 3",
   "language": "python",
   "name": "python3"
  },
  "language_info": {
   "codemirror_mode": {
    "name": "ipython",
    "version": 3
   },
   "file_extension": ".py",
   "mimetype": "text/x-python",
   "name": "python",
   "nbconvert_exporter": "python",
   "pygments_lexer": "ipython3",
   "version": "3.10.0"
  }
 },
 "nbformat": 4,
 "nbformat_minor": 2
}
